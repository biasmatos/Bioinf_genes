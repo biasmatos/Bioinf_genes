{
 "cells": [
  {
   "cell_type": "code",
   "execution_count": 17,
   "metadata": {},
   "outputs": [],
   "source": [
    "from Bio.Blast import NCBIXML \n",
    "from Bio.Blast import NCBIWWW \n",
    "from Bio import SeqIO"
   ]
  },
  {
   "attachments": {},
   "cell_type": "markdown",
   "metadata": {},
   "source": [
    "Carregar ficheiros das proteínas de interesse"
   ]
  },
  {
   "cell_type": "code",
   "execution_count": 18,
   "metadata": {},
   "outputs": [],
   "source": [
    "#Gene MC4R\n",
    "P1seq= SeqIO.read(open(\"prot1.fasta\"), format=\"fasta\")"
   ]
  },
  {
   "cell_type": "code",
   "execution_count": 12,
   "metadata": {},
   "outputs": [],
   "source": [
    "#Gene SEC16B\n",
    "P2seq= SeqIO.read(open(\"prot2.fasta\"), format=\"fasta\")"
   ]
  },
  {
   "attachments": {},
   "cell_type": "markdown",
   "metadata": {},
   "source": [
    "Base de dados SwissProt - BLAST"
   ]
  },
  {
   "cell_type": "code",
   "execution_count": 19,
   "metadata": {},
   "outputs": [],
   "source": [
    "def blast(Pseq,nome_ficheiro): #pesquisa por sequencias semelhantes no Blast e guarda o ficheiro em XML\n",
    "    result_handle = NCBIWWW.qblast(\"blastp\", \"swissprot\", Pseq.format(\"fasta\"))\n",
    "    save_file= open(nome_ficheiro, \"w\") #exemplo de nome: \"apaf-blast-sp.xml\"\n",
    "    save_file.write(result_handle.read()) \n",
    "    save_file.close() \n",
    "    result_handle.close()\n",
    "    result_handle= open(nome_ficheiro)\n",
    "    record= NCBIXML.read(result_handle)\n",
    "    return record\n",
    "\n",
    "def blast_org(Pseq,organismo,nome_ficheiro): #escrever organismo neste formato: \"Saccharomyces cerevisiae[organism]\"\n",
    "    result_handle = NCBIWWW.qblast(\"blastp\", \"swissprot\", Pseq.format(\"fasta\"), entrez_query = organismo)\n",
    "    save_file= open(nome_ficheiro, \"w\") #exemplo de nome: \"apaf-blast-sp2.xml\"\n",
    "    save_file.write(result_handle.read()) \n",
    "    save_file.close() \n",
    "    result_handle.close()\n",
    "    result_handle= open(nome_ficheiro)\n",
    "    record= NCBIXML.read(result_handle)\n",
    "    return record\n",
    "\n",
    "def align(record): #Retorna todos os e-values e o comprimento do alignments obtidos pelo Blast\n",
    "    res = []\n",
    "    for alignment in record.alignments:\n",
    "        evalue = alignment.hsps[0].expect\n",
    "        accession = alignment.accession\n",
    "        leng = alignment.hsps[0].align_length\n",
    "        res.append(accession + \" - \" + str(evalue) + \" length:\" + str(leng))\n",
    "    print(\"E-values and length of alignments:\")\n",
    "    for s in res: \n",
    "        print(s)\n",
    "\n",
    "def short_align(record): #Primeiros alinhamentos com E-value igual a 0 \n",
    "    aligns=[]\n",
    "    for i in range(7): #Só queremos ver os primeiros 6 valores de todos os alignments\n",
    "        alignment = record.alignments[i]\n",
    "        evalue=alignment.hsps[0].expect\n",
    "        if evalue == 0:\n",
    "            aligns.append(alignment) #lista com os aligments de e-value igual 0\n",
    "    for salign in aligns:\n",
    "        print(\"Hit: \" + salign.hit_id + \" - \" + salign.hit_def )\n",
    "        print (\"Accession: \", salign.accession)\n",
    "        print (\"Nº de HSP (high-scoring segment pairs): \", len(salign.hsps))\n",
    "        hsp=salign.hsps[0]\n",
    "        print (\"Comprimento do HSP: \", hsp.align_length)\n",
    "        identities= (hsp.identities)*100/(hsp.align_length) #Percentagem de resíduos da query que são iguais aos do hit\n",
    "        print (\"Identities: \", identities, \"%\")\n",
    "        print ()\n",
    "\n",
    "\n",
    "def alignmentx(record,index): #Fornece mais informações acerca de um alinhamento com index específico\n",
    "    alignment = record.alignments[index] #o index 0 vai ser a própria proteína\n",
    "    print (\"Accession: \" + alignment.accession) #Identifica o accession (registo da Uniprot da sequência obtida)\n",
    "    print (\"Hit id: \" + alignment.hit_id)\n",
    "    print (\"Definition: \" + alignment.hit_def) #descrição\n",
    "    print (\"Number of HSPs: \", len(alignment.hsps)) #nº de HSP\n",
    "    print ()\n",
    "    for hsp in alignment.hsps: #para cada HSP\n",
    "        print (\"HSP\",alignment.hsps.index(hsp))\n",
    "        print (\"E-value: \", hsp.expect)\n",
    "        print (\"Length: \", hsp.align_length) #comprimento do alinhamento\n",
    "        print (\"Identities: \", hsp.identities)\n",
    "        print (\"Query start: \", hsp.query_start) #início do HSP na query\n",
    "        print (\"Sbjct start: \", hsp.sbjct_start) #início do HSP na sequência\n",
    "        print (hsp.query[0:90])\n",
    "        print (hsp.match[0:90]) #verifica quais os AA que estão na mesma posição na seq da query e da seq da proteína original\n",
    "        print (hsp.sbjct[0:90])\n",
    "        print ()\n"
   ]
  },
  {
   "cell_type": "code",
   "execution_count": 20,
   "metadata": {},
   "outputs": [
    {
     "name": "stdout",
     "output_type": "stream",
     "text": [
      "Hit: sp|P32245.2| - RecName: Full=Melanocortin receptor 4; Short=MC4-R [Homo sapiens]\n",
      "Accession:  P32245\n",
      "Nº de HSP (high-scoring segment pairs):  1\n",
      "Comprimento do HSP:  332\n",
      "Identities:  100.0 %\n",
      "\n",
      "Hit: sp|Q8HXX3.1| - RecName: Full=Melanocortin receptor 4; Short=MC4-R [Macaca fascicularis]\n",
      "Accession:  Q8HXX3\n",
      "Nº de HSP (high-scoring segment pairs):  1\n",
      "Comprimento do HSP:  332\n",
      "Identities:  98.49397590361446 %\n",
      "\n",
      "Hit: sp|O97504.1| - RecName: Full=Melanocortin receptor 4; Short=MC4-R [Sus scrofa]\n",
      "Accession:  O97504\n",
      "Nº de HSP (high-scoring segment pairs):  1\n",
      "Comprimento do HSP:  332\n",
      "Identities:  96.3855421686747 %\n",
      "\n",
      "Hit: sp|Q0Z8I9.1| - RecName: Full=Melanocortin receptor 4; Short=MC4-R [Vulpes vulpes]\n",
      "Accession:  Q0Z8I9\n",
      "Nº de HSP (high-scoring segment pairs):  1\n",
      "Comprimento do HSP:  332\n",
      "Identities:  96.08433734939759 %\n",
      "\n",
      "Hit: sp|P56450.3| - RecName: Full=Melanocortin receptor 4; Short=MC4-R [Mus musculus]\n",
      "Accession:  P56450\n",
      "Nº de HSP (high-scoring segment pairs):  1\n",
      "Comprimento do HSP:  332\n",
      "Identities:  93.97590361445783 %\n",
      "\n",
      "Hit: sp|P70596.1| - RecName: Full=Melanocortin receptor 4; Short=MC4-R [Rattus norvegicus]\n",
      "Accession:  P70596\n",
      "Nº de HSP (high-scoring segment pairs):  1\n",
      "Comprimento do HSP:  332\n",
      "Identities:  93.97590361445783 %\n",
      "\n",
      "Hit: sp|Q9GLJ8.1| - RecName: Full=Melanocortin receptor 4; Short=MC4-R [Bos taurus]\n",
      "Accession:  Q9GLJ8\n",
      "Nº de HSP (high-scoring segment pairs):  1\n",
      "Comprimento do HSP:  332\n",
      "Identities:  93.37349397590361 %\n",
      "\n"
     ]
    }
   ],
   "source": [
    "#Gene MC4R\n",
    "record1=blast(P1seq,\"apaf-blast-spM.xml\")\n",
    "#align(record1) #teste\n",
    "short_align(record1)\n",
    "#alignmentx(record1,1) #teste\n"
   ]
  },
  {
   "cell_type": "code",
   "execution_count": 15,
   "metadata": {},
   "outputs": [
    {
     "name": "stdout",
     "output_type": "stream",
     "text": [
      "Hit: sp|Q96JE7.2| - RecName: Full=Protein transport protein Sec16B; AltName: Full=Leucine zipper transcription regulator 2; AltName: Full=Regucalcin gene promoter region-related protein p117; Short=RGPR-p117; AltName: Full=SEC16 homolog B [Homo sapiens]\n",
      "Accession:  Q96JE7\n",
      "Nº de HSP (high-scoring segment pairs):  1\n",
      "Comprimento do HSP:  1060\n",
      "Identities:  100.0 %\n",
      "\n",
      "Hit: sp|Q75NY9.1| - RecName: Full=Protein transport protein Sec16B; AltName: Full=Regucalcin gene promoter region-related protein p117; Short=RGPR-p117; AltName: Full=SEC16 homolog B [Bos taurus]\n",
      "Accession:  Q75NY9\n",
      "Nº de HSP (high-scoring segment pairs):  1\n",
      "Comprimento do HSP:  1064\n",
      "Identities:  76.2218045112782 %\n",
      "\n",
      "Hit: sp|Q91XT4.3| - RecName: Full=Protein transport protein Sec16B; AltName: Full=Leucine zipper transcription regulator 2; AltName: Full=Regucalcin gene promoter region-related protein p117; Short=RGPR-p117; AltName: Full=SEC16 homolog B [Mus musculus]\n",
      "Accession:  Q91XT4\n",
      "Nº de HSP (high-scoring segment pairs):  1\n",
      "Comprimento do HSP:  1068\n",
      "Identities:  72.75280898876404 %\n",
      "\n",
      "Hit: sp|Q75N33.1| - RecName: Full=Protein transport protein Sec16B; AltName: Full=Leucine zipper transcription regulator 2; AltName: Full=Regucalcin gene promoter region-related protein p117; Short=RGPR-p117; AltName: Full=SEC16 homolog B [Rattus norvegicus]\n",
      "Accession:  Q75N33\n",
      "Nº de HSP (high-scoring segment pairs):  1\n",
      "Comprimento do HSP:  1069\n",
      "Identities:  72.4976613657624 %\n",
      "\n",
      "Hit: sp|Q6BCB4.1| - RecName: Full=Protein transport protein Sec16B; AltName: Full=Regucalcin gene promoter region-related protein p117; Short=RGPR-p117; AltName: Full=SEC16 homolog B [Oryctolagus cuniculus]\n",
      "Accession:  Q6BCB4\n",
      "Nº de HSP (high-scoring segment pairs):  1\n",
      "Comprimento do HSP:  1065\n",
      "Identities:  69.2018779342723 %\n",
      "\n",
      "Hit: sp|Q6AW68.1| - RecName: Full=Protein transport protein Sec16B; AltName: Full=Regucalcin gene promoter region-related protein p117; Short=RGPR-p117; AltName: Full=SEC16 homolog B [Gallus gallus]\n",
      "Accession:  Q6AW68\n",
      "Nº de HSP (high-scoring segment pairs):  1\n",
      "Comprimento do HSP:  1004\n",
      "Identities:  45.31872509960159 %\n",
      "\n"
     ]
    }
   ],
   "source": [
    "#Gene SEC16B\n",
    "record2=blast(P2seq,\"apaf-blast-spS.xml\")\n",
    "#align(record2) #teste\n",
    "short_align(record2)\n",
    "#alignmentx(record2,1) #teste"
   ]
  }
 ],
 "metadata": {
  "kernelspec": {
   "display_name": "Python 3",
   "language": "python",
   "name": "python3"
  },
  "language_info": {
   "codemirror_mode": {
    "name": "ipython",
    "version": 3
   },
   "file_extension": ".py",
   "mimetype": "text/x-python",
   "name": "python",
   "nbconvert_exporter": "python",
   "pygments_lexer": "ipython3",
   "version": "3.11.0"
  },
  "orig_nbformat": 4,
  "vscode": {
   "interpreter": {
    "hash": "64924d34f5c95f261818ee0e41d58b43741dcf0b72677c10b726c1fe86046c0c"
   }
  }
 },
 "nbformat": 4,
 "nbformat_minor": 2
}
