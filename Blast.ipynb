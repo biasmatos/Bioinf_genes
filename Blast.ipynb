{
 "cells": [
  {
   "cell_type": "code",
   "execution_count": 1,
   "metadata": {},
   "outputs": [],
   "source": [
    "from Bio.Blast import NCBIXML \n",
    "from Bio.Blast import NCBIWWW \n",
    "from Bio import SeqIO"
   ]
  },
  {
   "attachments": {},
   "cell_type": "markdown",
   "metadata": {},
   "source": [
    "Carregar ficheiros das proteínas de interesse"
   ]
  },
  {
   "cell_type": "code",
   "execution_count": 2,
   "metadata": {},
   "outputs": [],
   "source": [
    "#Gene MC4R\n",
    "P1seq= SeqIO.read(open(\"prot1.fasta\"), format=\"fasta\")"
   ]
  },
  {
   "cell_type": "code",
   "execution_count": 3,
   "metadata": {},
   "outputs": [],
   "source": [
    "#Gene SEC16B\n",
    "P2seq= SeqIO.read(open(\"prot2.fasta\"), format=\"fasta\")"
   ]
  },
  {
   "attachments": {},
   "cell_type": "markdown",
   "metadata": {},
   "source": [
    "Base de dados SwissProt - BLAST"
   ]
  },
  {
   "cell_type": "code",
   "execution_count": 10,
   "metadata": {},
   "outputs": [],
   "source": [
    "def blast(Pseq): #pesquisa por sequencias semelhantes no Blast e guarda o ficheiro em XML\n",
    "    result_handle = NCBIWWW.qblast(\"blastp\", \"swissprot\", Pseq.format(\"fasta\"))\n",
    "    save_file= open(\"apaf-blast-sp.xml\", \"w\")\n",
    "    save_file.write(result_handle.read()) \n",
    "    save_file.close() \n",
    "    result_handle.close()\n",
    "    result_handle= open(\"apaf-blast-sp.xml\")\n",
    "    record= NCBIXML.read(result_handle)\n",
    "    return record\n",
    "\n",
    "def blast_org(Pseq,organismo): #escrever organismo neste formato: \"Saccharomyces cerevisiae[organism]\"\n",
    "    result_handle = NCBIWWW.qblast(\"blastp\", \"swissprot\", Pseq.format(\"fasta\"), entrez_query = organismo)\n",
    "    save_file= open(\"apaf-blast-sp.xml\", \"w\")\n",
    "    save_file.write(result_handle.read()) \n",
    "    save_file.close() \n",
    "    result_handle.close()\n",
    "    result_handle= open(\"apaf-blast-sp.xml\")\n",
    "    record= NCBIXML.read(result_handle)\n",
    "    return record\n",
    "\n",
    "def align(record): #Retorna todos os e-values e o comprimento do alignments obtidos pelo Blast\n",
    "    res = []\n",
    "    for alignment in record.alignments:\n",
    "        evalue = alignment.hsps[0].expect\n",
    "        accession = alignment.accession\n",
    "        leng = alignment.hsps[0].align_length\n",
    "        res.append(accession + \" - \" + str(evalue) + \" length:\" + str(leng))\n",
    "    print(\"E-values and length of alignments:\")\n",
    "    for s in res: \n",
    "        print(s)\n",
    "\n",
    "\n",
    "def first_align(record): #retorna o alinhamento com menor e-value (1º alinhamento da lista)\n",
    "    first_alignment = record.alignments[1] #o index 0 vai ser a própria proteína, então fomos ver o 2º alignment\n",
    "    print (\"Accession: \" + first_alignment.accession) #Identifica o accession (registo da Uniprot da sequência obtida)\n",
    "    print (\"Hit id: \" + first_alignment.hit_id)\n",
    "    print (\"Definition: \" + first_alignment.hit_def) #descrição\n",
    "    print (\"Number of HSPs: \", len(first_alignment.hsps)) #nº de HSP\n",
    "    print ()\n",
    "    for hsp in first_alignment.hsps: #para cada HSP\n",
    "        print (\"HSP\",first_alignment.hsps.index(hsp))\n",
    "        print (\"E-value: \", hsp.expect)\n",
    "        print (\"Length: \", hsp.align_length) #comprimento do alinhamento\n",
    "        print (\"Identities: \", hsp.identities)\n",
    "        print (\"Query start: \", hsp.query_start) #início do HSP na query\n",
    "        print (\"Sbjct start: \", hsp.sbjct_start) #início do HSP na sequência\n",
    "        print (hsp.query[0:90])\n",
    "        print (hsp.match[0:90]) #verifica quais os AA que estão na mesma posição na seq da query e da seq da proteína original\n",
    "        print (hsp.sbjct[0:90])\n",
    "        print ()"
   ]
  },
  {
   "cell_type": "code",
   "execution_count": 12,
   "metadata": {},
   "outputs": [
    {
     "name": "stdout",
     "output_type": "stream",
     "text": [
      "E-values and length of alignments:\n",
      "P32245 - 0.0 length:332\n",
      "Q8HXX3 - 0.0 length:332\n",
      "O97504 - 0.0 length:332\n",
      "Q0Z8I9 - 0.0 length:332\n",
      "P56450 - 0.0 length:332\n",
      "P70596 - 0.0 length:332\n",
      "Q9GLJ8 - 0.0 length:332\n",
      "B0V1P1 - 3.6269e-165 length:325\n",
      "P35345 - 4.54665e-141 length:312\n",
      "P41149 - 1.16081e-138 length:312\n",
      "Q9TT23 - 5.38206e-137 length:322\n",
      "P33032 - 1.67724e-136 length:322\n",
      "P33033 - 1.92933e-132 length:307\n",
      "P41968 - 9.22756e-131 length:300\n",
      "P32244 - 1.12328e-130 length:307\n",
      "P56451 - 7.80969e-129 length:292\n",
      "P41983 - 2.06829e-127 length:324\n",
      "Q9MZV8 - 1.31821e-124 length:294\n",
      "P47798 - 1.02683e-98 length:292\n",
      "Q0Q460 - 2.50662e-98 length:288\n",
      "Q864J4 - 1.87684e-97 length:297\n",
      "P56447 - 2.02538e-97 length:292\n",
      "P56444 - 4.48205e-97 length:292\n",
      "O19037 - 4.78442e-97 length:292\n",
      "Q864J3 - 6.28006e-97 length:298\n",
      "Q864J9 - 2.0559e-96 length:298\n",
      "Q864F9 - 8.36525e-96 length:295\n",
      "P56443 - 1.02859e-95 length:292\n",
      "P79166 - 1.6965e-95 length:292\n",
      "Q864J0 - 1.87098e-95 length:297\n",
      "P56442 - 1.91213e-95 length:294\n",
      "Q01726 - 3.75319e-95 length:292\n",
      "P55167 - 4.61765e-95 length:305\n",
      "Q864I5 - 5.25818e-95 length:298\n",
      "Q864I4 - 7.05298e-95 length:298\n",
      "Q01727 - 8.771e-95 length:303\n",
      "Q864J7 - 1.18877e-94 length:298\n",
      "Q9TUK4 - 1.39941e-94 length:292\n",
      "Q9TU05 - 1.55876e-94 length:272\n",
      "Q864K0 - 2.23379e-94 length:298\n",
      "Q864K2 - 2.41048e-94 length:298\n",
      "P56445 - 2.51765e-94 length:292\n",
      "Q864J6 - 2.54518e-94 length:298\n",
      "Q864J5 - 2.60115e-94 length:298\n",
      "Q864I6 - 2.8069e-94 length:298\n",
      "P56448 - 3.23314e-94 length:272\n",
      "Q864L0 - 3.68383e-94 length:297\n",
      "Q864K5 - 3.9752e-94 length:297\n",
      "Q864J2 - 5.10486e-94 length:298\n",
      "Q864K4 - 5.56885e-94 length:298\n",
      "--------------------------------------------------------------------------------------------------------------------\n",
      "Accession: Q8HXX3\n",
      "Hit id: sp|Q8HXX3.1|\n",
      "Definition: RecName: Full=Melanocortin receptor 4; Short=MC4-R [Macaca fascicularis]\n",
      "Number of HSPs:  1\n",
      "\n",
      "HSP 0\n",
      "E-value:  0.0\n",
      "Length:  332\n",
      "Identities:  327\n",
      "Query start:  1\n",
      "Sbjct start:  1\n",
      "MVNSTHRGMHTSLHLWNRSSYRLHSNASESLGKGYSDGGCYEQLFVSPEVFVTLGVISLLENILVIVAIAKNKNLHSPMYFFICSLAVAD\n",
      "MVNSTHRGMH SLHLWNRSS+RLHSNASESLGKGYSDGGCYEQLFVSPEVFVTLGVISLLENILVIVAIAKNKNLHSPMYFFICSLAVAD\n",
      "MVNSTHRGMHASLHLWNRSSHRLHSNASESLGKGYSDGGCYEQLFVSPEVFVTLGVISLLENILVIVAIAKNKNLHSPMYFFICSLAVAD\n",
      "\n"
     ]
    }
   ],
   "source": [
    "#Gene MC4R\n",
    "blast(P1seq)\n",
    "record1=blast(P1seq)\n",
    "align(record1) #teste\n",
    "print (\"--------------------------------------------------------------------------------------------------------------------\")\n",
    "first_align(record1) #teste\n"
   ]
  },
  {
   "cell_type": "code",
   "execution_count": 11,
   "metadata": {},
   "outputs": [
    {
     "name": "stdout",
     "output_type": "stream",
     "text": [
      "E-values and length of alignments:\n",
      "Q96JE7 - 0.0 length:1060\n",
      "Q75NY9 - 0.0 length:1064\n",
      "Q91XT4 - 0.0 length:1068\n",
      "Q75N33 - 0.0 length:1069\n",
      "Q6BCB4 - 0.0 length:1065\n",
      "Q6AW68 - 0.0 length:1004\n",
      "O15027 - 7.34612e-144 length:472\n",
      "E9QAT4 - 3.16187e-143 length:471\n",
      "Q9HEC9 - 8.40626e-32 length:461\n",
      "Q2GXM1 - 7.15386e-31 length:472\n",
      "Q9FGK8 - 3.07453e-28 length:519\n",
      "Q9FGK9 - 5.05835e-28 length:227\n",
      "Q6CEV2 - 1.52873e-26 length:309\n",
      "A2R4T4 - 3.15449e-23 length:363\n",
      "Q0V3R6 - 2.18427e-22 length:463\n",
      "Q4WD95 - 6.94298e-22 length:341\n",
      "A1DLN3 - 1.00908e-21 length:339\n",
      "Q1DHP3 - 2.0464e-21 length:470\n",
      "P34643 - 5.50701e-21 length:443\n",
      "Q2U968 - 2.10588e-20 length:325\n",
      "Q0CGY7 - 1.91404e-19 length:467\n",
      "A1CME3 - 9.20731e-19 length:428\n",
      "Q5AYL5 - 5.52444e-15 length:351\n",
      "Q74ZJ8 - 7.51804e-14 length:423\n",
      "Q6BXI1 - 1.14392e-13 length:401\n",
      "O14029 - 2.78148e-11 length:299\n",
      "P48415 - 2.60879e-10 length:433\n",
      "A5DH19 - 4.34892e-10 length:387\n",
      "A3LZ57 - 5.53476e-08 length:387\n",
      "Q6CM10 - 1.17466e-07 length:492\n",
      "Q9NWT1 - 8.49757 length:58\n",
      "--------------------------------------------------------------------------------------------------------------------\n",
      "Accession: Q75NY9\n",
      "Hit id: sp|Q75NY9.1|\n",
      "Definition: RecName: Full=Protein transport protein Sec16B; AltName: Full=Regucalcin gene promoter region-related protein p117; Short=RGPR-p117; AltName: Full=SEC16 homolog B [Bos taurus]\n",
      "Number of HSPs:  1\n",
      "\n",
      "HSP 0\n",
      "E-value:  0.0\n",
      "Length:  1064\n",
      "Identities:  811\n",
      "Query start:  1\n",
      "Sbjct start:  1\n",
      "MELWAPQRLPQTRGKATAPSKDPDRGFRRDGHHRPVPHSWHNGERFHQWQDNRGSPQPQQEPRADHQQQPHYASRPGDWHQPVSGVDYYE\n",
      "ME W PQ LPQ  G+  APSKDPDRG  +D +++P+PHSWHNGER HQ QD   SPQPQQ+PR D  Q+PHYA+R G+W  PVSGVDYYE\n",
      "MEPWIPQWLPQPSGRPPAPSKDPDRGLWKDRYYQPIPHSWHNGERVHQRQDVGRSPQPQQDPRED-LQEPHYAARSGEWRPPVSGVDYYE\n",
      "\n"
     ]
    }
   ],
   "source": [
    "#Gene SEC16B\n",
    "blast(P2seq)\n",
    "record2=blast(P2seq)\n",
    "align(record2) #teste\n",
    "print (\"--------------------------------------------------------------------------------------------------------------------\")\n",
    "first_align(record2) #teste"
   ]
  }
 ],
 "metadata": {
  "kernelspec": {
   "display_name": "Python 3",
   "language": "python",
   "name": "python3"
  },
  "language_info": {
   "codemirror_mode": {
    "name": "ipython",
    "version": 3
   },
   "file_extension": ".py",
   "mimetype": "text/x-python",
   "name": "python",
   "nbconvert_exporter": "python",
   "pygments_lexer": "ipython3",
   "version": "3.11.0"
  },
  "orig_nbformat": 4,
  "vscode": {
   "interpreter": {
    "hash": "64924d34f5c95f261818ee0e41d58b43741dcf0b72677c10b726c1fe86046c0c"
   }
  }
 },
 "nbformat": 4,
 "nbformat_minor": 2
}
