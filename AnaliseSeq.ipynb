{
 "cells": [
  {
   "cell_type": "code",
   "execution_count": 1,
   "metadata": {},
   "outputs": [],
   "source": [
    "from Bio import Seq\n",
    "from Bio import SeqIO"
   ]
  },
  {
   "attachments": {},
   "cell_type": "markdown",
   "metadata": {},
   "source": [
    "Carregamento de Ficheiros para análise"
   ]
  },
  {
   "cell_type": "code",
   "execution_count": 2,
   "metadata": {},
   "outputs": [
    {
     "data": {
      "text/plain": [
       "SeqRecord(seq=Seq('AACACTCAAAGCAACGCTCAGGCTGGAAACAGAAGCTTCCGAGAGGCAGCCGAT...GTC'), id='NG_016441.1', name='NG_016441', description='Homo sapiens melanocortin 4 receptor (MC4R), RefSeqGene (LRG_1346) on chromosome 18', dbxrefs=[])"
      ]
     },
     "execution_count": 2,
     "metadata": {},
     "output_type": "execute_result"
    }
   ],
   "source": [
    "#Gene MC4R\n",
    "geneM= SeqIO.read(\"sequence-MC4R.gb\",\"genbank\")\n",
    "geneM\n"
   ]
  },
  {
   "cell_type": "code",
   "execution_count": 5,
   "metadata": {},
   "outputs": [
    {
     "data": {
      "text/plain": [
       "SeqRecord(seq=Seq('AGCTGTGAGTAACAGCAGGCTGTCATGATGGGATATAGCAGAAGCAGCAGCAGC...AAA'), id='NC_000001.11', name='NC_000001', description='Homo sapiens chromosome 1, GRCh38.p14 Primary Assembly', dbxrefs=['BioProject:PRJNA168', 'Assembly:GCF_000001405.40'])"
      ]
     },
     "execution_count": 5,
     "metadata": {},
     "output_type": "execute_result"
    }
   ],
   "source": [
    "#Gene SEC16B\n",
    "geneS= SeqIO.read(\"sequence-SEC16B.gb\",\"genbank\")\n",
    "geneS"
   ]
  },
  {
   "attachments": {},
   "cell_type": "markdown",
   "metadata": {},
   "source": [
    "Anotações"
   ]
  },
  {
   "cell_type": "code",
   "execution_count": 8,
   "metadata": {},
   "outputs": [
    {
     "name": "stdout",
     "output_type": "stream",
     "text": [
      "Gene MC4R\n"
     ]
    },
    {
     "data": {
      "text/plain": [
       "{'molecule_type': 'DNA',\n",
       " 'topology': 'linear',\n",
       " 'data_file_division': 'PRI',\n",
       " 'date': '19-FEB-2021',\n",
       " 'accessions': ['NG_016441', 'REGION:', '4994..6707'],\n",
       " 'sequence_version': 1,\n",
       " 'keywords': ['RefSeq', 'RefSeqGene'],\n",
       " 'source': 'Homo sapiens (human)',\n",
       " 'organism': 'Homo sapiens',\n",
       " 'taxonomy': ['Eukaryota',\n",
       "  'Metazoa',\n",
       "  'Chordata',\n",
       "  'Craniata',\n",
       "  'Vertebrata',\n",
       "  'Euteleostomi',\n",
       "  'Mammalia',\n",
       "  'Eutheria',\n",
       "  'Euarchontoglires',\n",
       "  'Primates',\n",
       "  'Haplorrhini',\n",
       "  'Catarrhini',\n",
       "  'Hominidae',\n",
       "  'Homo'],\n",
       " 'comment': 'REVIEWED REFSEQ: This record has been curated by NCBI staff in\\ncollaboration with LRG Consortium. The reference sequence was\\nderived from AC091576.11.\\nThis sequence is a reference standard in the RefSeqGene project.\\nSummary: The protein encoded by this gene is a membrane-bound\\nreceptor and member of the melanocortin receptor family. The\\nencoded protein interacts with adrenocorticotropic and MSH hormones\\nand is mediated by G proteins. This is an intronless gene. Defects\\nin this gene are a cause of autosomal dominant obesity. [provided\\nby RefSeq, Jan 2010].'}"
      ]
     },
     "execution_count": 8,
     "metadata": {},
     "output_type": "execute_result"
    }
   ],
   "source": [
    "print (\"Gene MC4R\")\n",
    "geneM.annotations"
   ]
  },
  {
   "cell_type": "code",
   "execution_count": 7,
   "metadata": {},
   "outputs": [
    {
     "name": "stdout",
     "output_type": "stream",
     "text": [
      "Gene SEC16B\n"
     ]
    },
    {
     "data": {
      "text/plain": [
       "{'molecule_type': 'DNA',\n",
       " 'topology': 'linear',\n",
       " 'data_file_division': 'CON',\n",
       " 'date': '06-APR-2022',\n",
       " 'accessions': ['NC_000001', 'REGION:', 'complement(177928788..177984284)'],\n",
       " 'sequence_version': 11,\n",
       " 'keywords': ['RefSeq'],\n",
       " 'source': 'Homo sapiens (human)',\n",
       " 'organism': 'Homo sapiens',\n",
       " 'taxonomy': ['Eukaryota',\n",
       "  'Metazoa',\n",
       "  'Chordata',\n",
       "  'Craniata',\n",
       "  'Vertebrata',\n",
       "  'Euteleostomi',\n",
       "  'Mammalia',\n",
       "  'Eutheria',\n",
       "  'Euarchontoglires',\n",
       "  'Primates',\n",
       "  'Haplorrhini',\n",
       "  'Catarrhini',\n",
       "  'Hominidae',\n",
       "  'Homo'],\n",
       " 'references': [Reference(title='The DNA sequence and biological annotation of human chromosome 1', ...),\n",
       "  Reference(title='Finishing the euchromatic sequence of the human genome', ...),\n",
       "  Reference(title='Initial sequencing and analysis of the human genome', ...)],\n",
       " 'comment': 'REFSEQ INFORMATION: The reference sequence is identical to\\nCM000663.2.\\nOn Feb 3, 2014 this sequence version replaced NC_000001.10.\\nAssembly Name: GRCh38.p14 Primary Assembly\\nThe DNA sequence is composed of genomic sequence, primarily\\nfinished clones that were sequenced as part of the Human Genome\\nProject. PCR products and WGS shotgun sequence have been added\\nwhere necessary to fill gaps or correct errors. All such additions\\nare manually curated by GRC staff. For more information see:\\nhttps://genomereference.org.',\n",
       " 'structured_comment': OrderedDict([('Genome-Annotation-Data',\n",
       "               OrderedDict([('Annotation Provider', 'NCBI'),\n",
       "                            ('Annotation Status', 'Full annotation'),\n",
       "                            ('Annotation Name',\n",
       "                             'Homo sapiens Annotation Release 110'),\n",
       "                            ('Annotation Version', '110'),\n",
       "                            ('Annotation Pipeline',\n",
       "                             'NCBI eukaryotic genome annotation pipeline'),\n",
       "                            ('Annotation Software Version', '9.0'),\n",
       "                            ('Annotation Method',\n",
       "                             'Best-placed RefSeq; Gnomon'),\n",
       "                            ('Features Annotated',\n",
       "                             'Gene; mRNA; CDS; ncRNA')]))])}"
      ]
     },
     "execution_count": 7,
     "metadata": {},
     "output_type": "execute_result"
    }
   ],
   "source": [
    "print (\"Gene SEC16B\")\n",
    "geneS.annotations"
   ]
  },
  {
   "attachments": {},
   "cell_type": "markdown",
   "metadata": {},
   "source": [
    "Features e Qualifiers"
   ]
  },
  {
   "cell_type": "code",
   "execution_count": 9,
   "metadata": {},
   "outputs": [],
   "source": [
    "def typelocal(features): #Dá-nos todos os tipos e localizações das features\n",
    "    print (\"Tipo e Local das  Features\")\n",
    "    for f in features: \n",
    "        print(f.type, f.location)\n",
    "\n",
    "def qualifiersCDS(features): #Significado Biológico das proteínas codificadas pelo gene\n",
    "    print (\"Qualifiers de CDS\")\n",
    "    for f in range (len(features)):\n",
    "        if features[f].type==\"CDS\":\n",
    "            print (features[f].qualifiers)\n",
    "            print()"
   ]
  },
  {
   "cell_type": "code",
   "execution_count": 10,
   "metadata": {},
   "outputs": [
    {
     "name": "stdout",
     "output_type": "stream",
     "text": [
      "Qualifiers de CDS\n",
      "OrderedDict([('gene', ['MC4R']), ('gene_synonym', ['BMIQ20']), ('note', ['MC4-R; mutant melanocortin-4 receptor']), ('codon_start', ['1']), ('product', ['melanocortin receptor 4']), ('protein_id', ['NP_005903.2']), ('db_xref', ['CCDS:CCDS11976.1', 'GeneID:4160', 'LRG:p1', 'HGNC:HGNC:6932', 'MIM:155541']), ('translation', ['MVNSTHRGMHTSLHLWNRSSYRLHSNASESLGKGYSDGGCYEQLFVSPEVFVTLGVISLLENILVIVAIAKNKNLHSPMYFFICSLAVADMLVSVSNGSETIVITLLNSTDTDAQSFTVNIDNVIDSVICSSLLASICSLLSIAVDRYFTIFYALQYHNIMTVKRVGIIISCIWAACTVSGILFIIYSDSSAVIICLITMFFTMLALMASLYVHMFLMARLHIKRIAVLPGTGAIRQGANMKGAITLTILIGVFVVCWAPFFLHLIFYISCPQNPYCVCFMSHFNLYLILIMCNSIIDPLIYALRSQELRKTFKEIICCYPLGGLCDLSSRY'])])\n",
      "\n"
     ]
    }
   ],
   "source": [
    "#Gene MC4R\n",
    "\n",
    "featM= geneM.features\n",
    "#typelocal(featM) #teste\n",
    "qualifiersCDS(featM) #teste"
   ]
  },
  {
   "cell_type": "code",
   "execution_count": 11,
   "metadata": {},
   "outputs": [
    {
     "name": "stdout",
     "output_type": "stream",
     "text": [
      "Qualifiers de CDS\n",
      "OrderedDict([('gene', ['SEC16B']), ('gene_synonym', ['LZTR2; PGPR-p117; RGPR; RGPR-p117; SEC16S']), ('note', ['isoform 1 is encoded by transcript variant 1; Derived by automated computational analysis using gene prediction method: BestRefSeq.']), ('codon_start', ['1']), ('product', ['protein transport protein Sec16B isoform 1']), ('protein_id', ['NP_149118.2']), ('db_xref', ['CCDS:CCDS44281.1', 'Ensembl:ENSP00000308339.6', 'GeneID:89866', 'HGNC:HGNC:30301', 'MIM:612855']), ('translation', ['MELWAPQRLPQTRGKATAPSKDPDRGFRRDGHHRPVPHSWHNGERFHQWQDNRGSPQPQQEPRADHQQQPHYASRPGDWHQPVSGVDYYEGGYRNQLYSRPGYENSYQSYQSPTMREEYAYGSYYYHGHPQWLQEERVPRQRSPYIWHEDYREQKYLDEHHYENQHSPFGTNSETHFQSNSRNPCKDSPASNSGQEWPGELFPGSLLAEAQKNKPSLASESNLLQQRESGLSSSSYELSQYIRDAPERDDPPASAAWSPVQADVSSAGPKAPMKFYIPHVPVSFGPGGQLVHVGPSSPTDGQAALVELHSMEVILNDSEEQEEMRSFSGPLIREDVHKVDIMTFCQQKAAQSCKSETLGSRDSALLWQLLVLLCRQNGSMVGSDIAELLMQDCKKLEKYKRQPPVANLINLTDEDWPVLSSGTPNLLTGEIPPSVETPAQIVEKFTRLLYYGRKKEALEWAMKNHLWGHALFLSSKMDPQTYSWVMSGFTSTLALNDPLQTLFQLMSGRIPQAATCCGEKQWGDWRPHLAVILSNQAGDPELYQRAIVAIGDTLAGKGLVEAAHFCYLMAHVPFGHYTVKTDHLVLLGSSHSQEFLKFATTEAIQRTEIFEYCQMLGRPKSFIPSFQVYKLLYASRLADYGLVSQALHYCEAIGAAVLSQGESSHPVLLVELIKLAEKLKLSDPLVLERRSGDRDLEPDWLAQLRRQLEQKVAGDIGDPHPTRSDISGAGGTTTENTFYQDFSGCQGYSEAPGYRSALWLTPEQTCLLQPSPQQPFPLQPGSYPAGGGAGQTGTPRPFYSVPETHLPGTGSSVAVTEATGGTVWEEMLQTHLGPGENTVSQETSQPPDGQEVISKPQTPLAARPRSISESSASSAKEDEKESSDEADKNSPRNTAQRGKLGDGKEHTKSSGFGWFSWFRSKPTKNASPAGDEDSSDSPDSEETPRASSPHQAGLGLSLTPSPESPPLPDVSAFSRGRGGGEGRGSASSGGAAAGAGVGGLSGPESVSFELCSNPGVLLPPPALKGAVPLYNPSQVPQLPTATSLNRPNRLAQRRYPTQPC'])])\n",
      "\n",
      "OrderedDict([('gene', ['SEC16B']), ('gene_synonym', ['LZTR2; PGPR-p117; RGPR; RGPR-p117; SEC16S']), ('note', ['isoform 1 is encoded by transcript variant 6; Derived by automated computational analysis using gene prediction method: BestRefSeq.']), ('codon_start', ['1']), ('product', ['protein transport protein Sec16B isoform 1']), ('protein_id', ['NP_001377762.1']), ('db_xref', ['GeneID:89866', 'HGNC:HGNC:30301', 'MIM:612855']), ('translation', ['MELWAPQRLPQTRGKATAPSKDPDRGFRRDGHHRPVPHSWHNGERFHQWQDNRGSPQPQQEPRADHQQQPHYASRPGDWHQPVSGVDYYEGGYRNQLYSRPGYENSYQSYQSPTMREEYAYGSYYYHGHPQWLQEERVPRQRSPYIWHEDYREQKYLDEHHYENQHSPFGTNSETHFQSNSRNPCKDSPASNSGQEWPGELFPGSLLAEAQKNKPSLASESNLLQQRESGLSSSSYELSQYIRDAPERDDPPASAAWSPVQADVSSAGPKAPMKFYIPHVPVSFGPGGQLVHVGPSSPTDGQAALVELHSMEVILNDSEEQEEMRSFSGPLIREDVHKVDIMTFCQQKAAQSCKSETLGSRDSALLWQLLVLLCRQNGSMVGSDIAELLMQDCKKLEKYKRQPPVANLINLTDEDWPVLSSGTPNLLTGEIPPSVETPAQIVEKFTRLLYYGRKKEALEWAMKNHLWGHALFLSSKMDPQTYSWVMSGFTSTLALNDPLQTLFQLMSGRIPQAATCCGEKQWGDWRPHLAVILSNQAGDPELYQRAIVAIGDTLAGKGLVEAAHFCYLMAHVPFGHYTVKTDHLVLLGSSHSQEFLKFATTEAIQRTEIFEYCQMLGRPKSFIPSFQVYKLLYASRLADYGLVSQALHYCEAIGAAVLSQGESSHPVLLVELIKLAEKLKLSDPLVLERRSGDRDLEPDWLAQLRRQLEQKVAGDIGDPHPTRSDISGAGGTTTENTFYQDFSGCQGYSEAPGYRSALWLTPEQTCLLQPSPQQPFPLQPGSYPAGGGAGQTGTPRPFYSVPETHLPGTGSSVAVTEATGGTVWEEMLQTHLGPGENTVSQETSQPPDGQEVISKPQTPLAARPRSISESSASSAKEDEKESSDEADKNSPRNTAQRGKLGDGKEHTKSSGFGWFSWFRSKPTKNASPAGDEDSSDSPDSEETPRASSPHQAGLGLSLTPSPESPPLPDVSAFSRGRGGGEGRGSASSGGAAAGAGVGGLSGPESVSFELCSNPGVLLPPPALKGAVPLYNPSQVPQLPTATSLNRPNRLAQRRYPTQPC'])])\n",
      "\n",
      "OrderedDict([('gene', ['CRYZL2P-SEC16B']), ('note', ['Derived by automated computational analysis using gene prediction method: BestRefSeq.']), ('codon_start', ['1']), ('product', ['protein transport protein Sec16B']), ('protein_id', ['NP_001343435.1']), ('db_xref', ['GeneID:111240474', 'HGNC:HGNC:53757']), ('translation', ['MELWAPQRLPQTRGKATAPSKDPDRGFRRDGHHRPVPHSWHNGERFHQWQDNRGSPQPQQEPRADHQQQPHYASRPGDWHQPVSGVDYYEGGYRNQLYSRPGYENSYQSYQSPTMREEYAYGSYYYHGHPQWLQEERVPRQRSPYIWHEDYREQKYLDEHHYENQHSPFGTNSETHFQSNSRNPCKDSPASNSGQEWPGELFPGSLLAEAQKNKPSLASESNLLQQRESGLSSSSYELSQYIRDAPERDDPPASAAWSPVQADVSSAGPKAPMKFYIPHVPVSFGPGGQLVHVGPSSPTDGQAALVELHSMEVILNDSEEQEEMRSFSGPLIREDVHKVDIMTFCQQKAAQSCKSETLGSRDSALLWQLLVLLCRQNGSMVGSDIAELLMQDCKKLEKYKRQPPVANLINLTDEDWPVLSSGTPNLLTGEIPPSVETPAQIVEKFTRLLYYGRKKEALEWAMKNHLWGHALFLSSKMDPQTYSWVMSGFTSTLALNDPLQTLFQLMSGRIPQAATCCGEKQWGDWRPHLAVILSNQAGDPELYQRAIVAIGDTLAGKGLVEAAHFCYLMAHVPFGHYTVKTDHLVLLGSSHSQEFLKFATTEAIQRTEIFEYCQMLGRPKSFIPSFQVYKLLYASRLADYGLVSQALHYCEAIGAAVLSQGESSHPVLLVELIKLAEKLKLSDPLVLERRSGDRDLEPDWLAQLRRQLEQKVAGDIGDPHPTRSDISGAGGTTTENTFYQDFSGCQGYSEAPGYRSALWLTPEQTCLLQPSPQQPFPLQPGSYPAGGGAGQTGTPRPFYSVPETHLPGTGSSVAVTEATGGTVWEEMLQTHLGPGENTVSQETSQPPDGQEVISKPQTPLAARPRSISESSASSAKEDEKESSDEADKNSPRNTAQRGKLGDGKEHTKSSGFGWFSWFRSKPTKNASPAGDEDSSDSPDSEQETPRASSPHQAGLGLSLTPSPESPPLPDVSAFSRGRGGGEGRGSASSGGAAAGAGVGGLSGPESVSFELCSNPGVLLPPPALKGAVPLYNPSQVPQLPTATSLNRPNRLAQRRYPTQPC'])])\n",
      "\n",
      "OrderedDict([('gene', ['CRYZL2P-SEC16B']), ('note', ['Derived by automated computational analysis using gene prediction method: BestRefSeq.']), ('codon_start', ['1']), ('product', ['protein transport protein Sec16B']), ('protein_id', ['NP_001343434.1']), ('db_xref', ['GeneID:111240474', 'HGNC:HGNC:53757']), ('translation', ['MELWAPQRLPQTRGKATAPSKDPDRGFRRDGHHRPVPHSWHNGERFHQWQDNRGSPQPQQEPRADHQQQPHYASRPGDWHQPVSGVDYYEGGYRNQLYSRPGYENSYQSYQSPTMREEYAYGSYYYHGHPQWLQEERVPRQRSPYIWHEDYREQKYLDEHHYENQHSPFGTNSETHFQSNSRNPCKDSPASNSGQEWPGELFPGSLLAEAQKNKPSLASESNLLQQRESGLSSSSYELSQYIRDAPERDDPPASAAWSPVQADVSSAGPKAPMKFYIPHVPVSFGPGGQLVHVGPSSPTDGQAALVELHSMEVILNDSEEQEEMRSFSGPLIREDVHKVDIMTFCQQKAAQSCKSETLGSRDSALLWQLLVLLCRQNGSMVGSDIAELLMQDCKKLEKYKRQPPVANLINLTDEDWPVLSSGTPNLLTGEIPPSVETPAQIVEKFTRLLYYGRKKEALEWAMKNHLWGHALFLSSKMDPQTYSWVMSGFTSTLALNDPLQTLFQLMSGRIPQAATCCGEKQWGDWRPHLAVILSNQAGDPELYQRAIVAIGDTLAGKGLVEAAHFCYLMAHVPFGHYTVKTDHLVLLGSSHSQEFLKFATTEAIQRTEIFEYCQMLGRPKSFIPSFQVYKLLYASRLADYGLVSQALHYCEAIGAAVLSQGESSHPVLLVELIKLAEKLKLSDPLVLERRSGDRDLEPDWLAQLRRQLEQKVAGDIGDPHPTRSDISGAGGTTTENTFYQDFSGCQGYSEAPGYRSALWLTPEQTCLLQPSPQQPFPLQPGSYPAGGGAGQTGTPRPFYSVPETHLPGTGSSVAVTEATGGTVWEEMLQTHLGPGENTVSQETSQPPDGQEVISKPQTPLAARPRSISESSASSAKEDEKESSDEADKNSPRNTAQRGKLGDGKEHTKSSGFGWFSWFRSKPTKNASPAGDEDSSDSPDSEQETPRASSPHQAGLGLSLTPSPESPPLPDVSAFSRGRGGGEGRGSASSGGAAAGAGVGGLSGPESVSFELCSNPGVLLPPPALKGAVPLYNPSQVPQLPTATSLNRPNRLAQRRYPTQPC'])])\n",
      "\n",
      "OrderedDict([('gene', ['SEC16B']), ('gene_synonym', ['LZTR2; PGPR-p117; RGPR; RGPR-p117; SEC16S']), ('note', ['isoform 4 is encoded by transcript variant 5; Derived by automated computational analysis using gene prediction method: BestRefSeq.']), ('codon_start', ['1']), ('product', ['protein transport protein Sec16B isoform 4']), ('protein_id', ['NP_001377764.1']), ('db_xref', ['GeneID:89866', 'HGNC:HGNC:30301', 'MIM:612855']), ('translation', ['MELWAPQRLPQTRGKATAPSKDPDRGFRRDGHHRPVPHSWHNGERFHQWQDNRGSPQPQQEPRADHQQQPHYASRPGDWHQPVSGVDYYEGGYRNQLYSRPGYENSYQSYQSPTMREEYAYGSYYYHGHPQWLQEERVPRQRSPYIWHEDYREQKYLDEHHYENQHSPFGTNSETHFQSNSRNPCKDSPASNSGQEWPGELFPGSLLAEAQKNKPSLASESNLLQQRESGLSSSSYELSQYIRDAPERDDPPASAAWSPVQAEDVSSAGPKAPMKFYIPHVPVSFGPGGQLVHVGPSSPTDGQAALVELHSMEVILNDSEEQEEMRSFSGPLIREDVHKVDIMTFCQQKAAQSCKSETLGSRDSALLWQLLVLLCRQNGSMVGSDIAELLMQDCKKLEKYKRQPPVANLINLTDEDWPVLSSGTPNLLTGEIPPSVETPAQIVEKFTRLLYYGRKKEALEWAMKNHLWGHALFLSSKMDPQTYSWVMSGFTSTLALNDPLQTLFQLMSGRIPQAATCCGEKQWGDWRPHLAVILSNQAGDPELYQRAIVAIGDTLAGKGLVEAAHFCYLMAHVPFGHYTVKTDHLVLLGSSHSQEFLKFATTEAIQRTEIFEYCQMLGRPKSFIPSFQVYKLLYASRLADYGLVSQALHYCEAIGAAVLSQGESSHPVLLVELIKLAEKLKLSDPLVLERRSGDRDLEPDWLAQLRRQLEQKVAGDIGDPHPTRSDISGAGGTTTENTFYQDFSGCQGYSEAPGYRSALWLTPEQTCLLQPSPQQPFPLQPGSYPAGGGAGQTGTPRPFYSVPETHLPGTGSSVAVTEATGGTVWEEMLQTHLGPGENTVSQETSQPPDGQEVISKPQTPLAARPRSISESSASSAKEDEKESSDEADKNSPRNTAQRGKLGDGKEHTKSSGFGWFSWFRSKPTKNASPAGDEDSSDSPDSEQETPRASSPHQAGLGLSLTPSPESPPLPDVSAFSRGRGGGEGRGSASSGGAAAGAGVGGLSGPESVSFELCSNPGVLLPPPALKGAVPLYNPSQVPQLPTATSLNRPNRLAQRRYPTQPC'])])\n",
      "\n",
      "OrderedDict([('gene', ['SEC16B']), ('gene_synonym', ['LZTR2; PGPR-p117; RGPR; RGPR-p117; SEC16S']), ('note', ['isoform 4 is encoded by transcript variant 4; Derived by automated computational analysis using gene prediction method: BestRefSeq.']), ('codon_start', ['1']), ('product', ['protein transport protein Sec16B isoform 4']), ('protein_id', ['NP_001377763.1']), ('db_xref', ['GeneID:89866', 'HGNC:HGNC:30301', 'MIM:612855']), ('translation', ['MELWAPQRLPQTRGKATAPSKDPDRGFRRDGHHRPVPHSWHNGERFHQWQDNRGSPQPQQEPRADHQQQPHYASRPGDWHQPVSGVDYYEGGYRNQLYSRPGYENSYQSYQSPTMREEYAYGSYYYHGHPQWLQEERVPRQRSPYIWHEDYREQKYLDEHHYENQHSPFGTNSETHFQSNSRNPCKDSPASNSGQEWPGELFPGSLLAEAQKNKPSLASESNLLQQRESGLSSSSYELSQYIRDAPERDDPPASAAWSPVQAEDVSSAGPKAPMKFYIPHVPVSFGPGGQLVHVGPSSPTDGQAALVELHSMEVILNDSEEQEEMRSFSGPLIREDVHKVDIMTFCQQKAAQSCKSETLGSRDSALLWQLLVLLCRQNGSMVGSDIAELLMQDCKKLEKYKRQPPVANLINLTDEDWPVLSSGTPNLLTGEIPPSVETPAQIVEKFTRLLYYGRKKEALEWAMKNHLWGHALFLSSKMDPQTYSWVMSGFTSTLALNDPLQTLFQLMSGRIPQAATCCGEKQWGDWRPHLAVILSNQAGDPELYQRAIVAIGDTLAGKGLVEAAHFCYLMAHVPFGHYTVKTDHLVLLGSSHSQEFLKFATTEAIQRTEIFEYCQMLGRPKSFIPSFQVYKLLYASRLADYGLVSQALHYCEAIGAAVLSQGESSHPVLLVELIKLAEKLKLSDPLVLERRSGDRDLEPDWLAQLRRQLEQKVAGDIGDPHPTRSDISGAGGTTTENTFYQDFSGCQGYSEAPGYRSALWLTPEQTCLLQPSPQQPFPLQPGSYPAGGGAGQTGTPRPFYSVPETHLPGTGSSVAVTEATGGTVWEEMLQTHLGPGENTVSQETSQPPDGQEVISKPQTPLAARPRSISESSASSAKEDEKESSDEADKNSPRNTAQRGKLGDGKEHTKSSGFGWFSWFRSKPTKNASPAGDEDSSDSPDSEQETPRASSPHQAGLGLSLTPSPESPPLPDVSAFSRGRGGGEGRGSASSGGAAAGAGVGGLSGPESVSFELCSNPGVLLPPPALKGAVPLYNPSQVPQLPTATSLNRPNRLAQRRYPTQPC'])])\n",
      "\n",
      "OrderedDict([('gene', ['SEC16B']), ('gene_synonym', ['LZTR2; PGPR-p117; RGPR; RGPR-p117; SEC16S']), ('note', ['isoform 2 is encoded by transcript variant 2; Derived by automated computational analysis using gene prediction method: BestRefSeq.']), ('codon_start', ['1']), ('product', ['protein transport protein Sec16B isoform 2']), ('protein_id', ['NP_001343428.1']), ('db_xref', ['CCDS:CCDS86035.1', 'GeneID:89866', 'HGNC:HGNC:30301', 'MIM:612855']), ('translation', ['MELWAPQRLPQTRGKATAPSKDPDRGFRRDGHHRPVPHSWHNGERFHQWQDNRGSPQPQQEPRADHQQQPHYASRPGDWHQPVSGVDYYEGGYRNQLYSRPGYENSYQSYQSPTMREEYAYGSYYYHGHPQWLQEERVPRQRSPYIWHEDYREQKYLDEHHYENQHSPFGTNSETHFQSNSRNPCKDSPASNSGQEWPGELFPGSLLAEAQKNKPSLASESNLLQQRESGLSSSSYELSQYIRDAPERDDPPASAAWSPVQAEDVSSAGPKAPMKFYIPHVPVSFGPGGQLVHVGPSSPTDGQAALVELHSMEVILNDSEEQEEMRSFSGPLIREDVHKVDIMTFCQQKAAQSCKSETLGSRDSALLWQLLVLLCRQNGSMVGSDIAELLMQDCKKLEKYKRQPPVANLINLTDEDWPVLSSGTPNLLTGEIPPSVETPAQIVEKFTRLLYYGRKKEALEWAMKNHLWGHALFLSSKMDPQTYSWVMSGFTSTLALNDPLQTLFQLMSGRIPQAATCCGEKQWGDWRPHLAVILSNQAGDPELYQRAIVAIGDTLAGKGLVEAAHFCYLMAHVPFGHYTVKTDHLVLLGSSHRYATWEKGNSKDIFQGTVLALVGFYGSIFHFLM'])])\n",
      "\n"
     ]
    }
   ],
   "source": [
    "#Gene SEC16B\n",
    "\n",
    "featS= geneS.features\n",
    "#typelocal(featS) #teste\n",
    "qualifiersCDS(featS) #teste"
   ]
  }
 ],
 "metadata": {
  "kernelspec": {
   "display_name": "Python 3",
   "language": "python",
   "name": "python3"
  },
  "language_info": {
   "codemirror_mode": {
    "name": "ipython",
    "version": 3
   },
   "file_extension": ".py",
   "mimetype": "text/x-python",
   "name": "python",
   "nbconvert_exporter": "python",
   "pygments_lexer": "ipython3",
   "version": "3.11.0"
  },
  "orig_nbformat": 4,
  "vscode": {
   "interpreter": {
    "hash": "64924d34f5c95f261818ee0e41d58b43741dcf0b72677c10b726c1fe86046c0c"
   }
  }
 },
 "nbformat": 4,
 "nbformat_minor": 2
}
